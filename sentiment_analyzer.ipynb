{
 "cells": [
  {
   "cell_type": "code",
   "execution_count": null,
   "metadata": {},
   "outputs": [],
   "source": [
    "from nltk.sentiment.vader import SentimentIntensityAnalyzer"
   ]
  },
  {
   "cell_type": "code",
   "execution_count": null,
   "metadata": {},
   "outputs": [],
   "source": [
    "# load sentences\n",
    "\n",
    "with open('Data/amazonReviewSnippets_GroundTruth.txt') as file:\n",
    "    #parse each line, and extract the sentence\n",
    "    sentences = [line.split('\\t')[2] for line in file]\n",
    "    #remove linebreak character at the end of each sentence\n",
    "    sentences = [sentence.rstrip('\\n') for sentence in sentences]"
   ]
  },
  {
   "cell_type": "code",
   "execution_count": null,
   "metadata": {
    "scrolled": true
   },
   "outputs": [],
   "source": [
    "sentences[:15]"
   ]
  },
  {
   "cell_type": "code",
   "execution_count": null,
   "metadata": {},
   "outputs": [],
   "source": [
    "sentiment_intensity_analyzer = SentimentIntensityAnalyzer()"
   ]
  },
  {
   "cell_type": "code",
   "execution_count": null,
   "metadata": {
    "scrolled": true
   },
   "outputs": [],
   "source": [
    "#run sentiment analysis using Vader sentiment intensity anlyzer\n",
    "\n",
    "for sentence in sentences:\n",
    "    print(sentence)\n",
    "    \n",
    "    polarity_scores = sentiment_intensity_analyzer.polarity_scores(sentence)\n",
    "    print(polarity_scores)\n"
   ]
  },
  {
   "cell_type": "code",
   "execution_count": null,
   "metadata": {},
   "outputs": [],
   "source": [
    "# Note: \n",
    "# compound is an overall sentiment score, standardized between -1 (most extreme negative) and +1 (most extreme positive)\n",
    "\n",
    "\n",
    "# The pos (positive), neu (neutral), and neg (negative) scores are ratios for proportions of text that fall in each category; \n",
    "# (they sum to 1)."
   ]
  },
  {
   "cell_type": "code",
   "execution_count": null,
   "metadata": {},
   "outputs": [],
   "source": []
  }
 ],
 "metadata": {
  "kernelspec": {
   "display_name": "Python 3",
   "language": "python",
   "name": "python3"
  },
  "language_info": {
   "codemirror_mode": {
    "name": "ipython",
    "version": 3
   },
   "file_extension": ".py",
   "mimetype": "text/x-python",
   "name": "python",
   "nbconvert_exporter": "python",
   "pygments_lexer": "ipython3",
   "version": "3.8.0"
  }
 },
 "nbformat": 4,
 "nbformat_minor": 4
}
